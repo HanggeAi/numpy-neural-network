{
 "cells": [
  {
   "cell_type": "code",
   "execution_count": 1,
   "metadata": {},
   "outputs": [],
   "source": [
    "# 需要用到的函数\n",
    "import numpy as np\n",
    "\n",
    "\n",
    "def softmax(x):\n",
    "    if x.ndim==2:\n",
    "        x=x.T\n",
    "        x=x-np.max(x,axis=0)    # 防止溢出的对策\n",
    "        y=np.exp(x)/np.sum(np.exp(x),axis=0)\n",
    "        return y.T\n",
    "    \n",
    "    x=x-np.max(x)    # 防止溢出的对策\n",
    "    y=np.exp(x)/np.sum(np.exp(x))\n",
    "    return y\n",
    "\n",
    "\n",
    "def cross_entropy_error(y, t):\n",
    "    if y.ndim == 1:\n",
    "        t = t.reshape(1, t.size)\n",
    "        y = y.reshape(1, y.size)\n",
    "        \n",
    "    # 监督数据是one-hot-vector的情况下，转换为正确解标签的索引\n",
    "    if t.size == y.size:\n",
    "        t  = t.argmax(axis=1)    # 最大值所在的索引\n",
    "             \n",
    "    batch_size = y.shape[0]\n",
    "    return -np.sum(np.log(y[np.arange(batch_size), t] + 1e-7)) / batch_size"
   ]
  },
  {
   "cell_type": "code",
   "execution_count": 2,
   "metadata": {},
   "outputs": [],
   "source": [
    "# 每个层的类\n",
    "class Affine:\n",
    "    def __init__(self,w,b):\n",
    "        self.W=w\n",
    "        self.b=b\n",
    "        self.x=None\n",
    "        self.dW=None\n",
    "        self.db=None\n",
    "        \n",
    "    def forward(self,x):\n",
    "        self.x=x\n",
    "        out=self.x.dot(self.W)+self.b\n",
    "        return out\n",
    "    \n",
    "    def backward(self,dout):\n",
    "        dx=dout.dot(self.W.T)\n",
    "        self.dW=self.x.T.dot(dout)\n",
    "        self.db=np.sum(dout,axis=0)\n",
    "        return dx\n",
    "    \n",
    "    \n",
    "class Sigmoid:\n",
    "    def __init__(self,x):\n",
    "        self.out=None\n",
    "        \n",
    "    def forward(self,x):\n",
    "        out=1/(1+np.exp(-x))\n",
    "        self.out=out\n",
    "        return out\n",
    "    \n",
    "    def backward(self,dout):\n",
    "        dout=dout*self.out(1-self.out)\n",
    "        return dout\n",
    "    \n",
    "\n",
    "class ReLU:\n",
    "    def __init__(self):\n",
    "        self.out=None\n",
    "        \n",
    "    def forward(self,x):\n",
    "        mask=(x<=0)\n",
    "        self.mask=mask\n",
    "        out=x.copy()\n",
    "        out[mask]=0\n",
    "        return out\n",
    "    \n",
    "    def backward(self,dout):\n",
    "        dout[self.mask]=0\n",
    "        return dout\n",
    "    \n",
    "    \n",
    "class SoftMaxWithLoss:\n",
    "    def __init__(self):\n",
    "        self.loss=None\n",
    "        self.y=None\n",
    "        self.t=None\n",
    "        \n",
    "    def forward(self,x,t):\n",
    "        \"\"\"注意这里返回的是误差\"\"\"\n",
    "        self.t=t\n",
    "        self.y=softmax(x)\n",
    "        self.loss=cross_entropy_error(self.y,self.t)\n",
    "        return self.loss\n",
    "    \n",
    "    def backward(self,dout=1):\n",
    "        batchsize=self.t.shape[0]    # 批大小\n",
    "        dx=(self.y-self.t)/batchsize\n",
    "        return dx    # 似乎与dout无关"
   ]
  },
  {
   "cell_type": "code",
   "execution_count": 3,
   "metadata": {},
   "outputs": [],
   "source": [
    "from collections import OrderedDict\n",
    "\n",
    "\n",
    "class TwoLayerNet:\n",
    "    def __init__(self,input_size,hidden_size,output_size,weight_init_std=0.01):\n",
    "        # 初始化权重\n",
    "        self.params={}\n",
    "        self.params['W1']=weight_init_std*np.random.randn(input_size,hidden_size)\n",
    "        self.params['b1']=np.zeros(hidden_size)\n",
    "        self.params['W2']=weight_init_std*np.random.randn(hidden_size,output_size)\n",
    "        self.params['b2']=np.zeros(output_size)\n",
    "        \n",
    "        # 各个层\n",
    "        self.layers=OrderedDict()\n",
    "        self.layers['Affine1']=Affine(self.params['W1'],self.params['b1'])\n",
    "        self.layers['ReLU']=ReLU()\n",
    "        self.layers['Affine2']=Affine(self.params['W2'],self.params['b2'])\n",
    "        self.lastLayer=SoftMaxWithLoss()\n",
    "        \n",
    "    def predict(self,x):\n",
    "        \"\"\"前向传播\"\"\"\n",
    "        for layer in self.layers.values():\n",
    "            x=layer.forward(x)\n",
    "        return x\n",
    "    \n",
    "    def loss(self,x,t):\n",
    "        y=self.predict(x)\n",
    "        return self.lastLayer.forward(y,t)    # 这里.forward的参数x应该是前面几层的输出y\n",
    "    \n",
    "    def accuracy(self,x,t):\n",
    "        y=self.predict(x)\n",
    "        y=np.argmax(y,axis=1)    # 获取最大值索引,看来这里也是批\n",
    "        if t.ndim!=1:    # 批处理时，可能会导致t维度为2，因为1个样本对应会输出一个列向量y\n",
    "            t=np.argmax(t,axis=1)\n",
    "        accuracy=np.sum(y==t)/float(x.shape[0])\n",
    "        return accuracy\n",
    "    \n",
    "    def gradient(self,x,t):\n",
    "        self.loss(x,t)    # 不可略，因为其中涉及到前向传播\n",
    "        \n",
    "        dout=1\n",
    "        dout=self.lastLayer.backward(dout)\n",
    "        layers=list(self.layers.values())\n",
    "        layers.reverse()\n",
    "        \n",
    "        # 反向传播\n",
    "        for layer in layers:\n",
    "            dout=layer.backward(dout)\n",
    "            \n",
    "        grads={}\n",
    "        grads['W1']=self.layers['Affine1'].dW\n",
    "        grads['b1']=self.layers['Affine1'].db\n",
    "        grads['W2']=self.layers['Affine2'].dW\n",
    "        grads['b2']=self.layers['Affine2'].db\n",
    "        \n",
    "        return grads         "
   ]
  },
  {
   "cell_type": "code",
   "execution_count": 4,
   "metadata": {},
   "outputs": [],
   "source": [
    "# 神经网络的训练\n",
    "from dataset.mnist import load_mnist\n",
    "\n",
    "# 读入数据\n",
    "(x_train,t_train),(x_test,t_test)=load_mnist(normalize=True,one_hot_label=True)\n",
    "\n",
    "network=TwoLayerNet(input_size=784,hidden_size=50,output_size=10,)\n",
    "\n",
    "## 训练的一些超参数\n",
    "iters_num=10000\n",
    "train_size=x_train.shape[0]\n",
    "batch_size=100\n",
    "learning_rate=0.1\n",
    "\n",
    "train_loss=[]\n",
    "train_acc_list=[]\n",
    "test_acc_list=[]\n",
    "\n",
    "iter_per_epoch=max(iters_num/batch_size,1)    # 每iter_per_epoch次迭代后打印一下\n",
    "\n",
    "## 训练，采用mini-batch方法训练\n",
    "for iter in range(iters_num):\n",
    "    batch_mask=np.random.choice(train_size,batch_size)\n",
    "    x_batch=x_train[batch_mask]\n",
    "    t_batch=t_train[batch_mask]\n",
    "    \n",
    "    # 计算梯度\n",
    "    grads=network.gradient(x_batch,t_batch)\n",
    "    \n",
    "    # 梯度下降法更新权重\n",
    "    for key in ['W1','b1','W2','b2']:\n",
    "        network.params[key]-=learning_rate*grads[key]\n",
    "        \n",
    "    # 损失计算\n",
    "    loss=network.loss(x_batch,t_batch)\n",
    "    train_loss.append(loss)\n",
    "    \n",
    "    if iter%iter_per_epoch==0:\n",
    "        train_acc=network.accuracy(x_train,t_train)    # 注意是在整体测试集上的精度,\n",
    "        test_acc=network.accuracy(x_test,t_test)\n",
    "        train_acc_list.append(train_acc)\n",
    "        test_acc_list.append(test_acc)\n",
    "        "
   ]
  },
  {
   "cell_type": "code",
   "execution_count": 5,
   "metadata": {},
   "outputs": [
    {
     "data": {
      "text/plain": [
       "Text(0, 0.5, 'loss in train')"
      ]
     },
     "execution_count": 5,
     "metadata": {},
     "output_type": "execute_result"
    },
    {
     "data": {
      "image/png": "[encoded data removed]",
      "text/plain": [
       "<Figure size 576x432 with 1 Axes>"
      ]
     },
     "metadata": {
      "needs_background": "light"
     },
     "output_type": "display_data"
    }
   ],
   "source": [
    "import matplotlib.pyplot as plt\n",
    "\n",
    "\n",
    "plt.figure(figsize=(8,6))\n",
    "plt.plot(np.array(train_loss),'b-')\n",
    "plt.xlabel('iter num')\n",
    "plt.ylabel('loss in train')\n"
   ]
  },
  {
   "cell_type": "code",
   "execution_count": 6,
   "metadata": {},
   "outputs": [
    {
     "data": {
      "text/plain": [
       "Text(0, 0.5, 'acc in train')"
      ]
     },
     "execution_count": 6,
     "metadata": {},
     "output_type": "execute_result"
    },
    {
     "data": {
      "image/png": "[encoded data removed]",
      "text/plain": [
       "<Figure size 576x432 with 1 Axes>"
      ]
     },
     "metadata": {
      "needs_background": "light"
     },
     "output_type": "display_data"
    }
   ],
   "source": [
    "plt.figure(figsize=(8,6))\n",
    "plt.plot(np.array(train_acc_list),'k-s')\n",
    "plt.xlabel('iter num')\n",
    "plt.ylabel('acc in train')\n"
   ]
  },
  {
   "cell_type": "code",
   "execution_count": 7,
   "metadata": {},
   "outputs": [
    {
     "data": {
      "text/plain": [
       "Text(0, 0.5, 'loss in test')"
      ]
     },
     "execution_count": 7,
     "metadata": {},
     "output_type": "execute_result"
    },
    {
     "data": {
      "image/png": "[encoded data removed]",
      "text/plain": [
       "<Figure size 720x576 with 1 Axes>"
      ]
     },
     "metadata": {
      "needs_background": "light"
     },
     "output_type": "display_data"
    }
   ],
   "source": [
    "plt.figure(figsize=(10,8))\n",
    "plt.plot(np.array(test_acc_list),'b-o')\n",
    "plt.xlabel('iter num')\n",
    "plt.ylabel('loss in test')\n"
   ]
  },
  {
   "cell_type": "code",
   "execution_count": 8,
   "metadata": {},
   "outputs": [
    {
     "data": {
      "text/plain": [
       "0.9703"
      ]
     },
     "execution_count": 8,
     "metadata": {},
     "output_type": "execute_result"
    }
   ],
   "source": [
    "# 最终在测试集上的精度\n",
    "network.accuracy(x_test, t_test)\n"
   ]
  },
  {
   "cell_type": "markdown",
   "metadata": {},
   "source": [
    "### 上面的网络只有两层，下面试一下三层的神经网络："
   ]
  },
  {
   "cell_type": "code",
   "execution_count": 9,
   "metadata": {},
   "outputs": [],
   "source": [
    "from collections import OrderedDict\n",
    "\n",
    "\n",
    "class ThreeLayerNet:\n",
    "    def __init__(self,input_size,\n",
    "                 hidden_size1,hidden_size2,\n",
    "                 output_size,\n",
    "                 weight_init_std=0.01):\n",
    "        # 初始化权重\n",
    "        self.params={}\n",
    "        self.params['W1']=weight_init_std*np.random.randn(input_size,hidden_size1)\n",
    "        self.params['b1']=np.zeros(hidden_size1)\n",
    "        self.params['W2']=weight_init_std*np.random.randn(hidden_size1,hidden_size2)\n",
    "        self.params['b2']=np.zeros(hidden_size2)\n",
    "        self.params['W3']=weight_init_std*np.random.randn(hidden_size2,output_size)\n",
    "        self.params['b3']=np.zeros(output_size)\n",
    "        \n",
    "        self.layers=OrderedDict()\n",
    "        self.layers['Affine1']=Affine(self.params['W1'],self.params['b1'])\n",
    "        self.layers['ReLU1']=ReLU()\n",
    "        self.layers['Affine2']=Affine(self.params['W2'],self.params['b2'])\n",
    "        self.layers['ReLU2']=ReLU()\n",
    "        self.layers['Affine3']=Affine(self.params['W3'],self.params['b3'])\n",
    "        # 最后一层\n",
    "        self.lastLayer=SoftMaxWithLoss()\n",
    "    \n",
    "    def predict(self,x):\n",
    "        for layer in self.layers.values():\n",
    "            x=layer.forward(x)\n",
    "        return x\n",
    "    \n",
    "    def loss(self,x,t):\n",
    "        y=self.predict(x)\n",
    "        return self.lastLayer.forward(y,t)\n",
    "    \n",
    "    def accuracy(self,x,t):\n",
    "        y=self.predict(x)\n",
    "        y=np.argmax(y,axis=1)\n",
    "        t=np.argmax(t,axis=1)\n",
    "        \n",
    "        return np.sum(y==t)/x.shape[0]\n",
    "    \n",
    "    def gradient(self,x,t):\n",
    "        self.loss(x,t)    # 前向传播\n",
    "        \n",
    "        dout=1  # 最后一层的反向输入，为1\n",
    "        dout=self.lastLayer.backward(dout)\n",
    "        \n",
    "        layers=list(self.layers.values())  # 将所有的层按顺序放入列表中\n",
    "        layers.reverse()  # 反向传播，需要从最后一层开始，一直向前传播\n",
    "        \n",
    "        for layer in layers:    # 反向传播\n",
    "            dout=layer.backward(dout)\n",
    "            \n",
    "        # 获取梯度\n",
    "        grads={}\n",
    "        grads['W1']=self.layers['Affine1'].dW\n",
    "        grads['b1']=self.layers['Affine1'].db\n",
    "        grads['W2']=self.layers['Affine2'].dW\n",
    "        grads['b2']=self.layers['Affine2'].db\n",
    "        grads['W3']=self.layers['Affine3'].dW\n",
    "        grads['b3']=self.layers['Affine3'].db\n",
    "        \n",
    "        return grads\n",
    "    \n",
    "    "
   ]
  },
  {
   "cell_type": "code",
   "execution_count": 10,
   "metadata": {},
   "outputs": [],
   "source": [
    "# 训练\n",
    "network3=ThreeLayerNet(input_size=784,hidden_size1=50,hidden_size2=50,output_size=10,)\n",
    "\n",
    "iters_num=5000\n",
    "train_loss=[]\n",
    "train_acc_list=[]\n",
    "test_acc_list=[]\n",
    "\n",
    "for iter in range(iters_num):\n",
    "    # 随机获取小批量数据\n",
    "    batch_mask=np.random.choice(train_size,batch_size)\n",
    "    x_batch=x_train[batch_mask]\n",
    "    t_batch=t_train[batch_mask]\n",
    "    \n",
    "    grads=network3.gradient(x_batch,t_batch)    # 计算梯度\n",
    "    \n",
    "    # 梯度下降法更新权重\n",
    "    for key in ['W1','b1','W2','b2','W3','b3']:\n",
    "        network3.params[key]-=learning_rate*grads[key]\n",
    "    \n",
    "    # 损失计算\n",
    "    loss=network3.loss(x_batch,t_batch)\n",
    "    train_loss.append(loss)\n",
    "    \n",
    "    # 每个一定的iter，计算精度\n",
    "    if iters_num%iter_per_epoch==0:\n",
    "        train_acc=network3.accuracy(x_train,t_train)\n",
    "        test_acc=network3.accuracy(x_test,t_test)\n",
    "        train_acc_list.append(train_acc)\n",
    "        test_acc_list.append(test_acc)"
   ]
  },
  {
   "cell_type": "code",
   "execution_count": 11,
   "metadata": {},
   "outputs": [
    {
     "data": {
      "text/plain": [
       "5000"
      ]
     },
     "execution_count": 11,
     "metadata": {},
     "output_type": "execute_result"
    }
   ],
   "source": [
    "len(train_loss)"
   ]
  },
  {
   "cell_type": "code",
   "execution_count": 12,
   "metadata": {},
   "outputs": [
    {
     "data": {
      "text/plain": [
       "Text(0, 0.5, 'loss in train')"
      ]
     },
     "execution_count": 12,
     "metadata": {},
     "output_type": "execute_result"
    },
    {
     "data": {
      "image/png": "[encoded data removed]",
      "text/plain": [
       "<Figure size 576x432 with 1 Axes>"
      ]
     },
     "metadata": {
      "needs_background": "light"
     },
     "output_type": "display_data"
    }
   ],
   "source": [
    "plt.figure(figsize=(8,6))\n",
    "plt.plot(np.array(train_loss),'b-')\n",
    "plt.xlabel('iter num')\n",
    "plt.ylabel('loss in train')"
   ]
  },
  {
   "cell_type": "code",
   "execution_count": 13,
   "metadata": {},
   "outputs": [
    {
     "data": {
      "text/plain": [
       "Text(0, 0.5, 'loss in train')"
      ]
     },
     "execution_count": 13,
     "metadata": {},
     "output_type": "execute_result"
    },
    {
     "data": {
      "image/png": "[encoded data removed]",
      "text/plain": [
       "<Figure size 576x432 with 1 Axes>"
      ]
     },
     "metadata": {
      "needs_background": "light"
     },
     "output_type": "display_data"
    }
   ],
   "source": [
    "plt.figure(figsize=(8,6))\n",
    "plt.plot(np.array(train_acc_list),'b-')\n",
    "plt.xlabel('iter num')\n",
    "plt.ylabel('loss in train')"
   ]
  },
  {
   "cell_type": "code",
   "execution_count": 14,
   "metadata": {},
   "outputs": [
    {
     "data": {
      "text/plain": [
       "Text(0, 0.5, 'loss in test')"
      ]
     },
     "execution_count": 14,
     "metadata": {},
     "output_type": "execute_result"
    },
    {
     "data": {
      "image/png": "[encoded data removed]",
      "text/plain": [
       "<Figure size 720x576 with 1 Axes>"
      ]
     },
     "metadata": {
      "needs_background": "light"
     },
     "output_type": "display_data"
    }
   ],
   "source": [
    "plt.figure(figsize=(10,8))\n",
    "plt.plot(np.array(test_acc_list),'g-o')\n",
    "plt.xlabel('iter num')\n",
    "plt.ylabel('loss in test')\n"
   ]
  },
  {
   "cell_type": "code",
   "execution_count": 15,
   "metadata": {},
   "outputs": [
    {
     "data": {
      "text/plain": [
       "0.9632"
      ]
     },
     "execution_count": 15,
     "metadata": {},
     "output_type": "execute_result"
    }
   ],
   "source": [
    "# 最终在测试集上的精度\n",
    "network3.accuracy(x_test, t_test)\n"
   ]
  },
  {
   "cell_type": "code",
   "execution_count": null,
   "metadata": {},
   "outputs": [],
   "source": []
  }
 ],
 "metadata": {
  "kernelspec": {
   "display_name": "Python 3.9.7 ('base')",
   "language": "python",
   "name": "python3"
  },
  "language_info": {
   "codemirror_mode": {
    "name": "ipython",
    "version": 3
   },
   "file_extension": ".py",
   "mimetype": "text/x-python",
   "name": "python",
   "nbconvert_exporter": "python",
   "pygments_lexer": "ipython3",
   "version": "3.9.7"
  },
  "orig_nbformat": 4,
  "vscode": {
   "interpreter": {
    "hash": "69bb06a9fb724e3616bb36eae2c2891ed4de586fe76c0b350d4e65619dfe458e"
   }
  }
 },
 "nbformat": 4,
 "nbformat_minor": 2
}
